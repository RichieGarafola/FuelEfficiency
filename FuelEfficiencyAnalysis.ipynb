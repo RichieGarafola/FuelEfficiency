{
 "cells": [
  {
   "cell_type": "code",
   "execution_count": null,
   "id": "133d7707-50c0-4011-930a-75a8c3765850",
   "metadata": {},
   "outputs": [],
   "source": [
    "# Import the necessary libraries\n",
    "import pandas as pd\n",
    "import numpy as np\n",
    "import matplotlib.pyplot as plt\n",
    "import seaborn as sns\n",
    "\n",
    "from sklearn.model_selection import train_test_split\n",
    "from sklearn.linear_model import LinearRegression\n",
    "\n",
    "from sklearn.ensemble import RandomForestRegressor\n",
    "from sklearn.feature_selection import RFECV\n",
    "\n",
    "import scipy.stats as stats\n",
    "from scipy.stats import shapiro, mannwhitneyu"
   ]
  },
  {
   "cell_type": "code",
   "execution_count": null,
   "id": "7dd32277-43b5-403f-85a8-ee7049c1608e",
   "metadata": {},
   "outputs": [],
   "source": [
    "# read in the data\n",
    "df = pd.read_csv('https://query.data.world/s/ppkis77hm7bdsgpqjsk3563fmzqqz6?dws=00000')\n",
    "\n",
    "# display the top 5 and bottom 5 rows of the dataset\n",
    "df"
   ]
  },
  {
   "cell_type": "code",
   "execution_count": null,
   "id": "8b518123-caad-469a-82f8-551fdfe158f4",
   "metadata": {},
   "outputs": [],
   "source": [
    "# check the missing values\n",
    "df.isnull().sum()"
   ]
  },
  {
   "cell_type": "code",
   "execution_count": null,
   "id": "210ca6bf-f03d-4e1d-bfee-a7247ea80f4e",
   "metadata": {},
   "outputs": [],
   "source": [
    "# check the duplicated rows\n",
    "df.duplicated().sum()"
   ]
  },
  {
   "cell_type": "code",
   "execution_count": null,
   "id": "1838828f-91bb-4107-b2b0-834ef6baa0ce",
   "metadata": {},
   "outputs": [],
   "source": [
    "# calculate descriptive statistics for each column\n",
    "df.describe()"
   ]
  },
  {
   "cell_type": "code",
   "execution_count": null,
   "id": "52a714db-6559-493f-9184-ce1659932029",
   "metadata": {},
   "outputs": [],
   "source": [
    "# calculate the correlation matrix\n",
    "corr_matrix = df.corr()\n",
    "\n",
    "# print the correlation matrix\n",
    "corr_matrix"
   ]
  },
  {
   "cell_type": "code",
   "execution_count": null,
   "id": "2b45282c-0df9-40a0-afdf-863c5291b606",
   "metadata": {},
   "outputs": [],
   "source": [
    "# visualize the correlation matrix in a more clear and concise way\n",
    "\n",
    "# create heatmap of the correlation matrix\n",
    "sns.heatmap(corr_matrix, annot=True, cmap='coolwarm', linewidths=0.5)\n",
    "\n",
    "# set the title of the heatmap\n",
    "plt.title('Correlation Matrix')\n",
    "\n",
    "# show the plot\n",
    "plt.show()"
   ]
  },
  {
   "cell_type": "markdown",
   "id": "8885dc9c-3c08-4d92-af30-0e63dbca0df4",
   "metadata": {},
   "source": [
    "The color of the square indicates the strength and direction of the correlation. A red square indicates a positive correlation, while a blue square indicates a negative correlation. The darker the color, the stronger the correlation.\n",
    "\n",
    "The diagonal line of squares represents the correlation of each variable with itself, which is always 1.0.\n",
    "\n",
    "Overall, the correlation matrix and heatmap can provide a useful visual summary of the relationships between variables in a dataset."
   ]
  },
  {
   "cell_type": "code",
   "execution_count": null,
   "id": "7c50b781-3b69-4ece-99b6-cdbfb4372cef",
   "metadata": {},
   "outputs": [],
   "source": [
    "# create a scatter plot of EPA rating vs. actual fuel economy\n",
    "plt.scatter(df['EPA RATING (CITY)'], df['ACTUAL FUEL ECONOMY Geotab'])\n",
    "plt.xlabel('EPA Rating (City)')\n",
    "plt.ylabel('Actual Fuel Economy')\n",
    "plt.title('EPA Rating vs. Actual Fuel Economy')\n",
    "plt.show()"
   ]
  },
  {
   "cell_type": "markdown",
   "id": "9bc3794e-5641-42e8-b1f6-1743df24f2b0",
   "metadata": {},
   "source": [
    "The scatter plot shows the relationship between EPA rating and actual fuel economy for the cars in the dataset.\n",
    "\n",
    "The x-axis represents the EPA rating for city driving, while the y-axis represents the actual fuel economy measured using the Geotab device. Each point on the plot represents a car in the dataset, and its position shows its EPA rating and actual fuel economy.\n",
    "\n",
    "The scatter plot allows us to visually assess the correlation between EPA rating and actual fuel economy. There is a relatively strong positive correlation, so we see the points form a roughly linear pattern with a positive slope, indicating that as EPA rating increases, actual fuel economy also tends to increase.\n",
    "\n",
    "The title and labels on the plot provide additional context and help to clarify the meaning of the axes and the purpose of the plot. Overall, the scatter plot is a useful tool for exploring and visualizing the relationship between two variables, and can help us to better understand the patterns and trends in the data."
   ]
  },
  {
   "cell_type": "code",
   "execution_count": null,
   "id": "bb809001-02ce-44dc-b82f-2504245b35e4",
   "metadata": {},
   "outputs": [],
   "source": [
    "# Scatterplot of Actual Fuel Economy vs. EPA Rating by Vehicle Type\n",
    "\n",
    "fig, ax = plt.subplots()\n",
    "colors = {'Hybrid': 'blue', 'Non-Hybrid': 'red'}\n",
    "\n",
    "# iterate over the two groups and create a scatter plot for each group using a different color (specified in the \"colors\" dictionary).\n",
    "for i, group in df.groupby('Hybrid/Non-Hybrid'):\n",
    "    ax.scatter(group['EPA RATING (CITY)'], group['ACTUAL FUEL ECONOMY Geotab'], c=colors[i], label=i)\n",
    "ax.legend()\n",
    "plt.xlabel('EPA Rating (City)')\n",
    "plt.ylabel('Actual Fuel Economy (Geotab)')"
   ]
  },
  {
   "cell_type": "markdown",
   "id": "7ad95f7f-abe5-4dd1-90ea-4a23932a10b3",
   "metadata": {},
   "source": [
    "This plot allows us to compare the relationship between EPA rating and actual fuel economy for hybrid and non-hybrid vehicles. The different colors and labels in the plot make it easy to distinguish between the two groups. The plot can be used to identify any patterns or differences in the relationship between EPA rating and actual fuel economy for the two types of vehicles."
   ]
  },
  {
   "cell_type": "code",
   "execution_count": null,
   "id": "06af4b54-f7ec-451a-91ec-387d331978a8",
   "metadata": {},
   "outputs": [],
   "source": [
    "# Predictive Analysis\n",
    "\n",
    "# select the features and target variable\n",
    "X = df[['YEAR', 'MAKE', 'MODEL', 'Hybrid/Non-Hybrid', 'STANDARD TYPE']]\n",
    "y = df['ACTUAL FUEL ECONOMY Geotab']\n",
    "\n",
    "# convert categorical variables to dummy variables\n",
    "X = pd.get_dummies(X)\n",
    "\n",
    "# split the data into training and testing sets\n",
    "X_train, X_test, y_train, y_test = train_test_split(X, y, test_size=0.3, random_state=42)\n",
    "\n",
    "# create a linear regression model and fit it to the training data\n",
    "model = LinearRegression()\n",
    "model.fit(X_train, y_train)\n",
    "\n",
    "# make predictions on the test data and calculate the R-squared score\n",
    "predictions = model.predict(X_test)\n",
    "score = model.score(X_test, y_test)\n",
    "\n",
    "# print the R-squared score\n",
    "print('R-squared score:', score)"
   ]
  },
  {
   "cell_type": "markdown",
   "id": "40733577-128b-40e4-9496-004abc9a30f6",
   "metadata": {},
   "source": [
    "The R-squared score is a measure of how well the linear regression model fits the test data. The R-squared score ranges from 0 to 1, where a score of 1 indicates a perfect fit and a score of 0 indicates no correlation between the features and target variable.\n",
    "\n",
    "In this case, the R-squared score tells us how well the linear regression model based on the selected features (year, make, model, hybrid/non-hybrid, and standard type) can predict the actual fuel economy (target variable). A higher R-squared score indicates that the model is a good fit for the data, while a lower score indicates that the model may not be an accurate predictor of the target variable.\n",
    "\n",
    "The output of the code will be the R-squared score printed in the console, indicating the goodness of fit of the model."
   ]
  },
  {
   "cell_type": "code",
   "execution_count": null,
   "id": "c39ddd80-f030-41b7-9cdc-4a47a28f0276",
   "metadata": {},
   "outputs": [],
   "source": [
    "# plot the actual vs predicted values\n",
    "plt.scatter(y_test, predictions)\n",
    "plt.xlabel('Actual Values')\n",
    "plt.ylabel('Predicted Values')\n",
    "plt.title('Linear Regression Model')\n",
    "\n",
    "# plot the linear regression line\n",
    "plt.plot([min(y_test), max(y_test)], [model.predict(X_test)[0], model.predict(X_test)[-1]], '-', linewidth=2, label='Linear Regression')\n",
    "\n",
    "# annotate the equation of the line\n",
    "# eqn = 'y = {:.2f} + {:.2f}x1 + {:.2f}x2 + {:.2f}x3 + {:.2f}x4 + {:.2f}x5'.format(model.intercept_, model.coef_[0], model.coef_[1], model.coef_[2], model.coef_[3], model.coef_[4])\n",
    "# plt.annotate(eqn, xy=(0.1, 0.9), xycoords='axes fraction')\n",
    "\n",
    "plt.xlabel('Year')\n",
    "plt.ylabel('Actual Fuel Economy')\n",
    "plt.title('Linear Regression of Actual Fuel Economy vs. Year')\n",
    "\n",
    "plt.legend()\n",
    "plt.show()"
   ]
  },
  {
   "cell_type": "markdown",
   "id": "beac50be-a44f-40a4-995b-59eff73b0f7d",
   "metadata": {},
   "source": [
    "This scatter plot compares the actual fuel economy values to the predicted fuel economy values using a linear regression model. The x-axis represents the actual fuel economy values from the test set, and the y-axis represents the predicted fuel economy values. The scatter plot points are colored blue.\n",
    "\n",
    "The line plotted on the scatter plot is the linear regression which shows the relationship between the year and the actual fuel economy. This line represents the best-fit line through the data points, indicating the linear relationship between the actual and predicted values."
   ]
  },
  {
   "cell_type": "code",
   "execution_count": null,
   "id": "6bf08f40-5c08-4ea2-8889-5e7ae55c619c",
   "metadata": {},
   "outputs": [],
   "source": [
    "# average fuel economy by each make\n",
    "\n",
    "# group the data by make and calculate the mean fuel economy for each group\n",
    "make_groups = df.groupby('MAKE')\n",
    "mean_fuel_economy = make_groups['ACTUAL FUEL ECONOMY Geotab'].mean()\n",
    "\n",
    "# sort the mean fuel economy values in ascending order\n",
    "mean_fuel_economy_sorted = mean_fuel_economy.sort_values(ascending=False)\n",
    "\n",
    "# print the mean fuel economy\n",
    "display(mean_fuel_economy_sorted)\n",
    "\n",
    "# create a bar chart of mean fuel economy by make\n",
    "plt.bar(mean_fuel_economy_sorted.index, mean_fuel_economy_sorted)\n",
    "plt.xlabel('Make')\n",
    "plt.ylabel('Mean Fuel Economy')\n",
    "plt.title('Mean Fuel Economy by Make')\n",
    "plt.xticks(rotation=90)\n",
    "plt.show()"
   ]
  },
  {
   "cell_type": "markdown",
   "id": "86b5ddcc-d7ca-44bb-9dd5-b8797254fb71",
   "metadata": {},
   "source": [
    "This chart shows the mean fuel economy for each car make in the dataset, sorted in descending order from the highest to the lowest. \n",
    "\n",
    "The bar chart allows us to quickly compare the fuel economy across different makes, and we can see that some makes, such as Toyota and Nissan, have significantly higher mean fuel economy than others, such as Freightliner and GNC. The x-axis represents the make of the car, while the y-axis represents the mean fuel economy in miles per gallon (mpg). \n",
    "\n",
    "The chart is helpful for identifying trends in fuel economy across different makes and can be used to inform decision-making around car purchases or policy development."
   ]
  },
  {
   "cell_type": "code",
   "execution_count": null,
   "id": "20bacc4b-8823-4eaf-a556-2be16ed0f709",
   "metadata": {},
   "outputs": [],
   "source": [
    "# Most fuel efficient\n",
    "\n",
    "# sort the dataset by actual fuel economy in descending order\n",
    "df_sorted_top = df.sort_values(\"ACTUAL FUEL ECONOMY Geotab\", ascending=False)\n",
    "\n",
    "# select the first row (which will be the highest actual fuel economy)\n",
    "top_vehicle = df_sorted_top.iloc[0]\n",
    "\n",
    "# print information about the top performing vehicle\n",
    "print(f\"The most fuel efficient vehicle in the dataset is the {top_vehicle['MAKE']} {top_vehicle['MODEL']} with an actual fuel economy of {top_vehicle['ACTUAL FUEL ECONOMY Geotab']:.2f}.\")\n",
    "\n",
    "top_vehicle"
   ]
  },
  {
   "cell_type": "code",
   "execution_count": null,
   "id": "c8b5630e-d7d0-4a8a-ab57-8d372f5cc51c",
   "metadata": {},
   "outputs": [],
   "source": [
    "# Least fuel efficient\n",
    "\n",
    "# sort the dataset by actual fuel economy in ascending order\n",
    "df_sorted_bottom = df.sort_values(\"ACTUAL FUEL ECONOMY Geotab\", ascending=True)\n",
    "\n",
    "# select the first row (which will be the lowest actual fuel economy)\n",
    "least_efficient_vehicle = df_sorted_bottom.iloc[0]\n",
    "\n",
    "# print information about the top performing vehicle\n",
    "print(f\"The Least fuel efficient vehicle in the dataset is the {least_efficient_vehicle['MAKE']} {least_efficient_vehicle['MODEL']} with an actual fuel economy of {least_efficient_vehicle['ACTUAL FUEL ECONOMY Geotab']:.2f}.\")\n",
    "\n",
    "\n",
    "least_efficient_vehicle"
   ]
  },
  {
   "cell_type": "code",
   "execution_count": null,
   "id": "976fbdcd-47c3-47d6-8529-4b0922171e01",
   "metadata": {},
   "outputs": [],
   "source": [
    "# Fuel economy trends over time\n",
    "\n",
    "# group the data by year and calculate the average fuel economy for each year\n",
    "fuel_economy_by_year = df.groupby(\"YEAR\")[\"ACTUAL FUEL ECONOMY Geotab\"].mean()\n",
    "\n",
    "# print the results\n",
    "display(fuel_economy_by_year)\n",
    "\n",
    "# plot the average fuel economy by year\n",
    "plt.plot(fuel_economy_by_year.index, fuel_economy_by_year)\n",
    "plt.xlabel('Year')\n",
    "plt.ylabel('Average Fuel Economy')\n",
    "plt.title('Average Fuel Economy by Year')\n",
    "plt.show()"
   ]
  },
  {
   "cell_type": "markdown",
   "id": "412d2943-3e08-4817-80e9-2353266ab11e",
   "metadata": {},
   "source": [
    "Line plot that shows the average fuel economy by year. \n",
    "The x-axis represents the year, and the y-axis represents the average fuel economy.\n",
    "\n",
    "From the line plot, it is clear that there are some fluctuations in the fuel economy over the years. In 2008, the average fuel economy was around 17.7 mpg and it increased steadily till 2010 when it peaked at around 31.7 mpg. There was a sharp decrease in the average fuel economy in 2011, followed by a slight increase in 2013. From 2014 to 2016, the average fuel economy was relatively stable, but there was a sudden increase in 2016.\n",
    "\n",
    "Overall, the line plot suggests that there have been some changes in the fuel economy over the years, and these changes might be attributed to factors such as changes in technology, government regulations, and consumer preferences."
   ]
  },
  {
   "cell_type": "code",
   "execution_count": null,
   "id": "ca61155b-7ced-41c9-9e47-fd26047a87a0",
   "metadata": {},
   "outputs": [],
   "source": [
    "# Barplot of Average Fuel Cost per Mile by Make\n",
    "\n",
    "# remove any special characters from the \"FUEL COSTS PER MILE\" column and convert the values to float.\n",
    "df['FUEL COSTS PER MILE'] = df['FUEL COSTS PER MILE'].str.replace('$', '').str.replace(' ', '').str.replace(',', '').astype(float)\n",
    "\n",
    "# group the data by \"MAKE\" and calculate the mean fuel cost per mile for each make\n",
    "make_cost = df.groupby('MAKE')['FUEL COSTS PER MILE'].mean()\n",
    "\n",
    "# select the top 10 makes with the highest average fuel cost per mile, sorted in descending order\n",
    "make_cost = make_cost.sort_values(ascending=False)[:10]\n",
    "\n",
    "# Create a bar plot\n",
    "fig, ax = plt.subplots()\n",
    "ax.bar(make_cost.index, make_cost.values)\n",
    "\n",
    "# rotate the x-axis labels by 45 degrees for better readability.\n",
    "plt.xticks(rotation=45)\n",
    "\n",
    "# show the make of the vehicle\n",
    "plt.xlabel('Make')\n",
    "\n",
    "# show the average fuel cost per mile\n",
    "plt.ylabel('Average Fuel Cost per Mile')\n",
    "\n",
    "# set the limits of the y-axis to ensure that all bars are visible in the plot\n",
    "plt.ylim(0, np.max(make_cost.values) + 0.01)\n"
   ]
  },
  {
   "cell_type": "markdown",
   "id": "3e7e7ecd-93ee-4ec0-a701-b2244f6f58db",
   "metadata": {},
   "source": [
    "This chart shows the average fuel cost per mile for the top 10 car makes with the highest average fuel cost per mile. \n",
    "The bar chart compares the fuel cost per mile for each make by showing the height of the bar for each make. \n",
    "The x-axis displays the names of the car makes, and the y-axis represents the average fuel cost per mile. \n",
    "\n",
    "The chart is sorted in descending order of the average fuel cost per mile. \n",
    "\n",
    "The visualization can be used to compare the fuel cost efficiency of different car makes, which can help people make informed decisions when purchasing a vehicle."
   ]
  },
  {
   "cell_type": "code",
   "execution_count": null,
   "id": "da228539-9532-4854-8668-86da7e65c654",
   "metadata": {},
   "outputs": [],
   "source": [
    "# Comparison of fuel economy between hybrid and non-hybrid vehicles\n",
    "\n",
    "# group the data by hybrid vs non-hybrid and calculate the average fuel economy for each group\n",
    "fuel_economy_by_hybrid_nonhybrid = df.groupby(\"Hybrid/Non-Hybrid\")[\"ACTUAL FUEL ECONOMY Geotab\"].mean()\n",
    "\n",
    "# print the results\n",
    "display(fuel_economy_by_hybrid_nonhybrid)\n",
    "\n",
    "# create a barplot to compare the average fuel economy between hybrid and non-hybrid vehicles\n",
    "fig, ax = plt.subplots()\n",
    "ax.bar(fuel_economy_by_hybrid_nonhybrid.index, fuel_economy_by_hybrid_nonhybrid.values)\n",
    "\n",
    "# label the x-axis and y-axis\n",
    "plt.xlabel('Vehicle Type')\n",
    "plt.ylabel('Average Fuel Economy (MPG)')\n",
    "\n",
    "# set the limits of the y-axis to ensure that all bars are visible in the plot\n",
    "plt.ylim(0, np.max(fuel_economy_by_hybrid_nonhybrid.values) + 5)\n",
    "\n",
    "# show the plot\n",
    "plt.show()"
   ]
  },
  {
   "cell_type": "markdown",
   "id": "c7156887-6963-45ca-90a8-2f4da4bd54f1",
   "metadata": {},
   "source": [
    "The barplot shows two categories: \"Hybrid\" and \"Non-Hybrid\". \n",
    "The y-axis shows the average fuel economy (in miles per gallon, or MPG) for each category. \n",
    "\n",
    "The height of each bar represents the average fuel economy for that category.\n",
    "\n",
    "The plot allows us to easily compare the average fuel economy between hybrid and non-hybrid vehicles. \n",
    "\n",
    "We can see that, on average, hybrid vehicles have a higher fuel economy than non-hybrid vehicles."
   ]
  },
  {
   "cell_type": "code",
   "execution_count": null,
   "id": "9c6b8e9a-db23-4236-b944-bb066e0ee7d1",
   "metadata": {},
   "outputs": [],
   "source": [
    "# Comparison of fuel economy between vehicle types\n",
    "\n",
    "# group the data by vehicle type and calculate the average fuel economy for each group\n",
    "fuel_economy_by_type = df.groupby(\"STANDARD TYPE\")[\"ACTUAL FUEL ECONOMY Geotab\"].mean()\n",
    "\n",
    "# print the results\n",
    "display(fuel_economy_by_type)\n",
    "\n",
    "# Bar plot of fuel economy by vehicle type\n",
    "fig, ax = plt.subplots()\n",
    "ax.bar(fuel_economy_by_type.index, fuel_economy_by_type.values)\n",
    "\n",
    "# Set labels for x and y axes\n",
    "plt.xlabel('Vehicle Type')\n",
    "plt.ylabel('Average Fuel Economy')\n",
    "\n",
    "# Set title of the plot\n",
    "plt.title('Comparison of Fuel Economy between Vehicle Types')\n",
    "\n",
    "# Show the plot\n",
    "plt.show()"
   ]
  },
  {
   "cell_type": "markdown",
   "id": "d04c73f3-6c0a-4681-9b8d-9ebd265594fa",
   "metadata": {},
   "source": [
    "The bar plot shows the average fuel economy on the y-axis and the different vehicle types on the x-axis. \n",
    "The plot shows the comparison of fuel economy between different vehicle types. \n",
    "\n",
    "The x-axis shows the different vehicle types, and the y-axis shows the average fuel economy for each type. \n",
    "\n",
    "From the plot, we can observe that Sedans have the highest average fuel economy, followed by SUVs, Vans, and Pickups, in that order. \n",
    "This suggests that Sedans are the most fuel-efficient type of vehicle, while Pickup trucks are the least fuel-efficient.\n",
    "\n",
    "Overall, this plot highlights the importance of vehicle type and design in determining fuel economy, which can have significant implications for both environmental impact and cost of ownership."
   ]
  },
  {
   "cell_type": "code",
   "execution_count": null,
   "id": "b8ec878d-a9b2-4eda-8a52-ec1e5e79eb36",
   "metadata": {},
   "outputs": [],
   "source": [
    "df['ESTIMATED FUEL COSTS PER GALLON'] = df['ESTIMATED FUEL COSTS PER GALLON'].str.replace('$', '').str.replace(' ', '').str.replace(',', '').astype(float)\n",
    "\n",
    "sns.set(style=\"whitegrid\")\n",
    "ax = sns.boxplot(x=\"Hybrid/Non-Hybrid\", y=\"ESTIMATED FUEL COSTS PER GALLON\", data=df)"
   ]
  },
  {
   "cell_type": "markdown",
   "id": "a875b09f-1687-40cc-a1ad-6a2eff864775",
   "metadata": {},
   "source": [
    "This boxplot compares the estimated fuel costs per gallon between hybrid and non-hybrid vehicles. \n",
    "The x-axis represents whether a vehicle is a hybrid or non-hybrid, and the y-axis represents the estimated fuel cost per gallon.\n",
    "\n",
    "The boxplot shows the median fuel cost for each group as a horizontal line inside a box. The box represents the interquartile range (IQR), which is the range of the middle 50% of the data. The whiskers extend from the box to show the range of the data, excluding outliers, which are shown as individual points outside the whiskers.\n",
    "\n",
    "From the boxplot, we can see that the median fuel cost per gallon for hybrid vehicles is lower than for non-hybrid vehicles. The IQR for hybrid vehicles is also smaller, indicating that there is less variation in fuel cost for hybrid vehicles compared to non-hybrid vehicles. \n",
    "\n",
    "There are some outliers for both groups, with a wider range of fuel costs for non-hybrid vehicles. \n",
    "\n",
    "Overall, this suggests that hybrid vehicles are more fuel-efficient than non-hybrid vehicles and may be a more cost-effective option for those looking to save money on fuel costs."
   ]
  },
  {
   "cell_type": "code",
   "execution_count": null,
   "id": "f8512a5d-5779-431d-a0bf-8ed05d2511e1",
   "metadata": {},
   "outputs": [],
   "source": [
    "# Comparison of actual fuel economy to EPA ratings\n",
    "\n",
    "# calculate the percentage difference between the actual fuel economy and the EPA rating for each vehicle\n",
    "df[\"% Difference\"] = ((df[\"ACTUAL FUEL ECONOMY Geotab\"] - df[\"EPA EXPECTED FUEL\"]) / df[\"EPA EXPECTED FUEL\"]) * 100\n",
    "\n",
    "# print the results\n",
    "display(df[[\"MAKE\", \"MODEL\", \"% Difference\"]])\n",
    "\n",
    "# create a scatter plot of actual fuel economy vs EPA ratings\n",
    "plt.scatter(df[\"EPA EXPECTED FUEL\"], df[\"ACTUAL FUEL ECONOMY Geotab\"], alpha=0.5)\n",
    "\n",
    "# set the labels for the x and y axis\n",
    "plt.xlabel(\"EPA Expected Fuel Economy\")\n",
    "plt.ylabel(\"Actual Fuel Economy\")\n",
    "\n",
    "# set the title for the plot\n",
    "plt.title(\"Comparison of Actual Fuel Economy to EPA Ratings\")\n",
    "\n",
    "# show the plot\n",
    "plt.show()"
   ]
  },
  {
   "cell_type": "markdown",
   "id": "95becd0d-5179-4a7b-afad-87461c4c0a0c",
   "metadata": {},
   "source": [
    "This scatter plot shows the relationship between the actual fuel economy of vehicles and the EPA expected fuel economy ratings. Each data point represents a vehicle, with the x-axis showing the EPA rating and the y-axis showing the actual fuel economy. The alpha parameter is set to 0.5 to adjust the transparency of the data points.\n",
    "\n",
    "From the plot, we can see that there is minimal relationship between the actual fuel economy and the EPA rating, which indicates that the EPA ratings are generally inaccurate. This could be due to a number of factors, such as driving habits, vehicle maintenance, or road conditions."
   ]
  },
  {
   "cell_type": "code",
   "execution_count": null,
   "id": "ab8489e9-9d1a-45b7-b471-553d74185e5f",
   "metadata": {},
   "outputs": [],
   "source": [
    "# Calculate the lower and upper bounds for outlier detection\n",
    "Q1 = df[\"ACTUAL FUEL ECONOMY Geotab\"].quantile(0.25)\n",
    "Q3 = df[\"ACTUAL FUEL ECONOMY Geotab\"].quantile(0.75)\n",
    "IQR = Q3 - Q1\n",
    "lower_bound = Q1 - 1.5 * IQR\n",
    "upper_bound = Q3 + 1.5 * IQR\n",
    "\n",
    "# Identify outliers\n",
    "outliers = df.loc[(df[\"ACTUAL FUEL ECONOMY Geotab\"] < lower_bound) | (df[\"ACTUAL FUEL ECONOMY Geotab\"] > upper_bound)]\n",
    "\n",
    "\n",
    "# Print the outliers\n",
    "print(\"Outlier:\")\n",
    "display(outliers)"
   ]
  },
  {
   "cell_type": "code",
   "execution_count": null,
   "id": "28058dda-9f93-4cb6-9618-ec8a733243da",
   "metadata": {},
   "outputs": [],
   "source": [
    "# Cost Analysis\n",
    "\n",
    "# Calculate the total cost of ownership for each vehicle\n",
    "df[\"Total Cost\"] = df[\"ESTIMATED FUEL COSTS PER GALLON\"] * df[\"TOTAL ACTUAL FUEL\"]\n",
    "\n",
    "# Calculate the payback period for each vehicle\n",
    "df[\"Payback Period\"] = df[\"Total Cost\"] / (df[\"EPA EXPECTED FUEL\"] * df[\"ESTIMATED FUEL COSTS PER GALLON\"])\n",
    "\n",
    "# Print the results\n",
    "display(df[[\"MAKE\", \"MODEL\", \"Total Cost\", \"Payback Period\"]].head(53))\n",
    "display(df[[\"MAKE\", \"MODEL\", \"Total Cost\", \"Payback Period\"]].tail(53))"
   ]
  },
  {
   "cell_type": "code",
   "execution_count": null,
   "id": "7b15186e-d19a-48eb-bff2-fabc8a0b10c2",
   "metadata": {},
   "outputs": [],
   "source": [
    "# Sort the data by total cost in descending order\n",
    "df_cost_sorted = df.sort_values(by=\"Total Cost\", ascending=False)\n",
    "\n",
    "# create a horizontal bar chart to compare between the different vehicles' total costs and payback periods\n",
    "\n",
    "# Create a figure with two subplots\n",
    "fig, (ax1, ax2) = plt.subplots(ncols=2, figsize=(15, 12))\n",
    "\n",
    "# Create a horizontal bar chart for total cost\n",
    "ax1.barh(df_cost_sorted[\"MAKE\"] + \" \" + df_cost_sorted[\"MODEL\"], df_cost_sorted[\"Total Cost\"])\n",
    "ax1.set_xlabel(\"Total Cost of Ownership\")\n",
    "ax1.set_ylabel(\"Vehicle Make and Model\")\n",
    "ax1.set_title(\"Total Cost of Ownership by Vehicle\")\n",
    "\n",
    "# Create a horizontal bar chart for payback period\n",
    "ax2.barh(df_cost_sorted[\"MAKE\"] + \" \" + df_cost_sorted[\"MODEL\"], df_cost_sorted[\"Payback Period\"])\n",
    "ax2.set_xlabel(\"Payback Period (years)\")\n",
    "ax2.set_ylabel(\"Vehicle Make and Model\")\n",
    "ax2.set_title(\"Payback Period by Vehicle\")\n",
    "\n",
    "# Adjust the layout and padding between subplots\n",
    "plt.tight_layout(pad=3.0)\n",
    "\n",
    "# Show the plot\n",
    "plt.show()"
   ]
  },
  {
   "cell_type": "markdown",
   "id": "b076333f-fd21-4b64-a795-cf4ecd4f8a99",
   "metadata": {},
   "source": [
    "The first subplot shows the total cost of ownership for each vehicle make and model, sorted in descending order by cost. Each bar in the chart represents a vehicle make and model, with the height of the bar corresponding to the total cost of ownership. The x-axis shows the total cost of ownership, and the y-axis shows the vehicle make and model in a concatenated string. The title of the chart is \"Total Cost of Ownership by Vehicle\".\n",
    "\n",
    "The second subplot shows the payback period for each vehicle make and model. Each bar in the chart represents a vehicle make and model, with the height of the bar corresponding to the payback period in years. The x-axis shows the payback period in years, and the y-axis shows the vehicle make and model in a concatenated string. The title of the chart is \"Payback Period by Vehicle\"."
   ]
  },
  {
   "cell_type": "code",
   "execution_count": null,
   "id": "f6a76b0c-d581-4ad3-b2a1-351c2cdef06f",
   "metadata": {},
   "outputs": [],
   "source": [
    "# Calculate the difference between the actual and expected fuel economy\n",
    "df[\"Difference\"] = df[\"ACTUAL FUEL ECONOMY Geotab\"] - df[\"EPA RATING (CITY)\"]\n",
    "\n",
    "# Calculate the percentage difference between the actual and expected fuel economy\n",
    "df[\"Percentage Difference\"] = df[\"Difference\"] / df[\"EPA RATING (CITY)\"]\n",
    "\n",
    "# Print the results\n",
    "display(df[[\"Difference\", \"Percentage Difference\"]])\n",
    "\n",
    "\n",
    "# Create a scatter plot\n",
    "sns.scatterplot(data=df, x=\"EPA RATING (CITY)\", y=\"ACTUAL FUEL ECONOMY Geotab\", \n",
    "                hue=\"Percentage Difference\", size=\"Percentage Difference\")\n",
    "\n",
    "# Add labels and title\n",
    "plt.xlabel(\"EPA Rating (City)\")\n",
    "plt.ylabel(\"Actual Fuel Economy (Geotab)\")\n",
    "plt.title(\"Difference between Actual and Expected Fuel Economy\")\n",
    "\n",
    "# Show the plot\n",
    "plt.show()"
   ]
  },
  {
   "cell_type": "markdown",
   "id": "92e3cf62-024e-47bb-bc6b-1990681a7e85",
   "metadata": {},
   "source": [
    "This visualization is a scatter plot that shows the relationship between the EPA Rating (City) and the Actual Fuel Economy (Geotab) for a set of vehicles. The x-axis represents the EPA rating and the y-axis represents the actual fuel economy as measured by Geotab. The color and size of each point in the plot represent the percentage difference between the actual and expected fuel economy, with larger and darker points indicating a higher percentage difference.\n",
    "\n",
    "The scatter plot allows us to visualize the overall trend between the two variables, as well as any outliers or clusters of points that may be present in the data. The color and size of each point also provide additional information on the magnitude of the difference between the expected and actual fuel economy for each vehicle."
   ]
  },
  {
   "cell_type": "code",
   "execution_count": null,
   "id": "aa2fecbd-5bbf-4f06-89f8-be82261651db",
   "metadata": {},
   "outputs": [],
   "source": [
    "# Shapiro-Wilk test for normality\n",
    "stat, p = shapiro(df['ACTUAL FUEL ECONOMY Geotab'])\n",
    "print('Statistics=%.3f, p=%.3f' % (stat, p))\n",
    "\n",
    "# Interpretation of results\n",
    "alpha = 0.05\n",
    "if p > alpha:\n",
    "    print('Data is normally distributed (fail to reject H0)')\n",
    "else:\n",
    "    print('Data is not normally distributed (reject H0)')\n",
    "    \n",
    "plt.hist(df['ACTUAL FUEL ECONOMY Geotab'], bins=20)\n",
    "plt.xlabel('Actual Fuel Economy')\n",
    "plt.ylabel('Frequency')\n",
    "plt.show()"
   ]
  },
  {
   "cell_type": "markdown",
   "id": "f62ca780-0270-4d2b-a9ff-52cff59083dc",
   "metadata": {},
   "source": [
    "The results of the Shapiro-Wilk test for normality on the 'ACTUAL FUEL ECONOMY Geotab' column of the dataset displays the test statistic (0.840) and the p-value (0.000) of the Shapiro-Wilk test.\n",
    "\n",
    "The interpretation of the results based on the p-value and the chosen significance level (alpha = 0.05) is the data is not normally distributed so we reject the null hypothesis (H0), since the p-value is less than alpha."
   ]
  },
  {
   "cell_type": "code",
   "execution_count": null,
   "id": "0c417b2e-0458-4357-af85-2c51f30282de",
   "metadata": {},
   "outputs": [],
   "source": [
    "# generate the probplot()\n",
    "stats.probplot(df['ACTUAL FUEL ECONOMY Geotab'], dist=\"norm\", plot=plt)\n",
    "plt.show()"
   ]
  },
  {
   "cell_type": "markdown",
   "id": "36ecb352-5ba1-44cd-ac48-4abca71341fe",
   "metadata": {},
   "source": [
    "Probability plot of the data against the quantiles of a normal distribution. The plot displays the data on the y-axis and the theoretical quantiles on the x-axis. If the sample data is normally distributed, the plotted points will fall close to a straight line.\n",
    "\n",
    "By comparing the plotted points to the straight red line, we can visually inspect whether the data is normally distributed or not. If the plotted points lie close to the red line, we can conclude that the data is normally distributed. If the points deviate from the line, it suggests that the data is not normally distributed.\n",
    "\n",
    "This visualization is useful to quickly check whether the normality assumption holds for the dataset before performing parametric tests that assume normality."
   ]
  },
  {
   "cell_type": "code",
   "execution_count": null,
   "id": "392ef7de-4682-4195-bffb-33d34ea780dd",
   "metadata": {},
   "outputs": [],
   "source": [
    "# Mann-Whitney U test for significant differences\n",
    "group1 = df[df['Hybrid/Non-Hybrid'] == 'Non-Hybrid']['ACTUAL FUEL ECONOMY Geotab']\n",
    "group2 = df[df['Hybrid/Non-Hybrid'] == 'Hybrid']['ACTUAL FUEL ECONOMY Geotab']\n",
    "stat, p = mannwhitneyu(group1, group2)\n",
    "print('Statistics=%.3f, p=%.3f' % (stat, p))\n",
    "\n",
    "# Interpretation of results\n",
    "alpha = 0.05\n",
    "if p > alpha:\n",
    "    print('There is no significant difference between groups (fail to reject H0)')\n",
    "else:\n",
    "    print('There is a significant difference between groups (reject H0)')\n",
    "    \n",
    "# create a boxplot to represent the actual fuel economy values \n",
    "sns.boxplot(x='Hybrid/Non-Hybrid', y='ACTUAL FUEL ECONOMY Geotab', data=df);"
   ]
  },
  {
   "cell_type": "markdown",
   "id": "6ec21d39-f387-4f74-87af-f1ffc4268015",
   "metadata": {},
   "source": [
    "The results of the Mann-Whitney U test determine if there is a significant difference between the actual fuel economy of non-hybrid and hybrid vehicles. The Mann-Whitney U test is a non-parametric test that is used to compare two independent groups when the data does not meet the assumptions of a parametric test like the t-test.\n",
    "\n",
    "The test produced a statistic value of 95.000 and a p-value of 0.000. The p-value is less than the significance level (alpha) of 0.05, which indicates that there is a significant difference between the two groups. Therefore, we reject the null hypothesis (H0) that there is no difference in actual fuel economy between hybrid and non-hybrid vehicles, and conclude that there **is** a significant difference between the two groups.\n",
    "\n",
    "The boxplot summarizes the distribution of the data within each group, showing the median value (line within the box), the interquartile range (IQR) (box), and the range of the data (whiskers). Any outliers are shown as individual points.\n",
    "\n",
    "This visualization helps us compare the actual fuel economy of the two groups and assess whether there are any significant differences between them."
   ]
  },
  {
   "cell_type": "code",
   "execution_count": null,
   "id": "10287ac4-b73b-468d-8834-214cce951e4f",
   "metadata": {},
   "outputs": [],
   "source": []
  },
  {
   "cell_type": "code",
   "execution_count": null,
   "id": "6824ad16-0a63-484b-bf1b-a4a26d93facf",
   "metadata": {},
   "outputs": [],
   "source": []
  }
 ],
 "metadata": {
  "kernelspec": {
   "display_name": "Python [conda env:RGNY] *",
   "language": "python",
   "name": "conda-env-RGNY-py"
  },
  "language_info": {
   "codemirror_mode": {
    "name": "ipython",
    "version": 3
   },
   "file_extension": ".py",
   "mimetype": "text/x-python",
   "name": "python",
   "nbconvert_exporter": "python",
   "pygments_lexer": "ipython3",
   "version": "3.7.11"
  }
 },
 "nbformat": 4,
 "nbformat_minor": 5
}
